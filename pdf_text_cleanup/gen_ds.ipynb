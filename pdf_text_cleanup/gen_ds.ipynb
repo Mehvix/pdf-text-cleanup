{
 "cells": [
  {
   "cell_type": "code",
   "execution_count": 1,
   "metadata": {},
   "outputs": [],
   "source": [
    "from pathlib import Path\n",
    "\n",
    "DATA = Path('./dataset')\n",
    "CLEAN = DATA / 'clean'\n",
    "DIRTY = DATA / 'dirty'\n",
    "DATA.mkdir(exist_ok=True) and CLEAN.mkdir(exist_ok=True) and DIRTY.mkdir(exist_ok=True)"
   ]
  },
  {
   "cell_type": "code",
   "execution_count": 2,
   "metadata": {},
   "outputs": [
    {
     "data": {
      "application/vnd.jupyter.widget-view+json": {
       "model_id": "15b5571ee30c4af08ace9763c349d7a0",
       "version_major": 2,
       "version_minor": 0
      },
      "text/plain": [
       "FileChooser(path='/home/bdrad/Documents/Vogel/pdf-text-cleanup/pdf_text_cleanup/dataset/dirty', filename='', t…"
      ]
     },
     "metadata": {},
     "output_type": "display_data"
    }
   ],
   "source": [
    "from ipyfilechooser import FileChooser\n",
    "from ipywidgets import Layout\n",
    "\n",
    "fc = FileChooser(\n",
    "    DIRTY,\n",
    "    filter_pattern=\"*.txt\",\n",
    "    title=\"Select TXT file to extract\",\n",
    "    layout=Layout(width=\"900px\"),\n",
    ")\n",
    "display(fc)"
   ]
  },
  {
   "cell_type": "markdown",
   "metadata": {},
   "source": [
    "* [30181](https://www.gutenberg.org/ebooks/30181) -- _Fungi: Their Nature and Uses_ by M. C. Cooke\n"
   ]
  },
  {
   "cell_type": "code",
   "execution_count": 4,
   "metadata": {},
   "outputs": [
    {
     "name": "stdout",
     "output_type": "stream",
     "text": [
      "File selected: [30181.txt](file:///home/bdrad/Documents/Vogel/pdf-text-cleanup/pdf_text_cleanup/dataset/dirty/30181.txt)\n"
     ]
    }
   ],
   "source": [
    "fname = Path(fc.selected)\n",
    "assert fname.is_file()\n",
    "print(f\"File selected: [{fname.name}]({fname.as_uri()})\")"
   ]
  },
  {
   "cell_type": "markdown",
   "metadata": {},
   "source": [
    "# Clean text file\n",
    "\n",
    "Note that I have manually pruned the text, clipping the beginning and end and removing various tables and indented portions."
   ]
  },
  {
   "cell_type": "code",
   "execution_count": 27,
   "metadata": {},
   "outputs": [],
   "source": [
    "import re\n",
    "import csv\n",
    "from pqdm.processes import pqdm\n",
    "# from pqdm.threads import pqdm"
   ]
  },
  {
   "cell_type": "code",
   "execution_count": 95,
   "metadata": {},
   "outputs": [],
   "source": [
    "CLEAN_CSV = CLEAN / (fname.stem + '.csv')\n",
    "READY = DATA / Path('ready')"
   ]
  },
  {
   "cell_type": "code",
   "execution_count": 32,
   "metadata": {},
   "outputs": [
    {
     "data": {
      "application/vnd.jupyter.widget-view+json": {
       "model_id": "93e64acc114848d68f87063398f379bc",
       "version_major": 2,
       "version_minor": 0
      },
      "text/plain": [
       "QUEUEING TASKS | :   0%|          | 0/513 [00:00<?, ?it/s]"
      ]
     },
     "metadata": {},
     "output_type": "display_data"
    },
    {
     "data": {
      "application/vnd.jupyter.widget-view+json": {
       "model_id": "3e6b2be4fddf4a18820d56070bf7eee3",
       "version_major": 2,
       "version_minor": 0
      },
      "text/plain": [
       "PROCESSING TASKS | :   0%|          | 0/513 [00:00<?, ?it/s]"
      ]
     },
     "metadata": {},
     "output_type": "display_data"
    },
    {
     "data": {
      "application/vnd.jupyter.widget-view+json": {
       "model_id": "2ff8066855e5496d82d7535997cc692b",
       "version_major": 2,
       "version_minor": 0
      },
      "text/plain": [
       "COLLECTING RESULTS | :   0%|          | 0/513 [00:00<?, ?it/s]"
      ]
     },
     "metadata": {},
     "output_type": "display_data"
    },
    {
     "name": "stdout",
     "output_type": "stream",
     "text": [
      "Wrote 474 rows to dataset/clean/30181.csv\n"
     ]
    }
   ],
   "source": [
    "with open(fname, 'r') as fin:\n",
    "    data = fin.read()\n",
    "\n",
    "data = re.sub(r'\\n\\n+', '\\n\\n', data)\n",
    "bodies = data.split('\\n\\n')\n",
    "bodies = [b for b in bodies if len(b.strip().split(' ')) > 7 and '&c' not in b]\n",
    "\n",
    "def parse(txt):\n",
    "    if re.match(r'\"?\\[Illustration:', txt):\n",
    "        return ''\n",
    "    txt = re.sub(r'\\n', ' ', txt)   # Remove newlines; make one line\n",
    "    # txt = re.sub(r'\\[Illustration:.+?\\]', r'', txt)  # Remove illustrations\n",
    "    txt = re.sub(r'\\[[a-zA-Z]+\\]', r'', txt)  # Remove citations\n",
    "    txt = re.sub(r'\\*\\*(.*?)\\*\\*', r'\\1', txt)  # Remove bolds enclosed within **\n",
    "    txt = re.sub(r'_(.*?)_', r'\\1', txt)    # Remove italics enclosed within _\n",
    "    txt = re.sub(r'.--', r'--', txt)    # remove unnecessary period\n",
    "    # txt = re.sub(r'\"\"', r'\"', txt)  # remove double quotes\n",
    "    return txt\n",
    "\n",
    "result = pqdm(bodies, parse, n_jobs=4)\n",
    "\n",
    "with open(CLEAN_CSV, 'w') as fout:\n",
    "    writer = csv.writer(fout)\n",
    "    # writer.writerow(['text'])\n",
    "    out = [[r] for r in result if r]\n",
    "    writer.writerows(out)\n",
    "    print(f\"Wrote {len(out)} rows to {CLEAN_CSV}\")"
   ]
  },
  {
   "cell_type": "markdown",
   "metadata": {},
   "source": [
    "# Augment Text"
   ]
  },
  {
   "cell_type": "code",
   "execution_count": null,
   "metadata": {},
   "outputs": [],
   "source": [
    "out = Path('ready')\n",
    "out.mkdir(exist_ok=True)"
   ]
  },
  {
   "cell_type": "code",
   "execution_count": 101,
   "metadata": {},
   "outputs": [
    {
     "data": {
      "text/plain": [
       "['The most casual observer of Nature recognizes in almost every instance that comes under his notice in every-day life, without the aid of logical definition, the broad distinctions between an animal, a plant, and a stone. To him, the old definition that an animal is possessed of life and locomotion, a plant of life without locomotion, and a mineral deficient in both, seems to be sufficient, until some day he travels beyond the circuit of diurnal routine, and encounters a sponge or a zoophyte, which possesses only one of his supposed attributes of animal life, but which he is assured is nevertheless a member of the animal kingdom. Such an encounter usually perplexes the neophyte at first, but rather than confess his generalizations to have been too gross, he will tenaciously contend that the sponge must be a plant, until the evidence produced is so strong that he is compelled to desert his position, and seek refuge in the declaration that one kingdom runs into the other so imperceptibly that no line of demarcation can be drawn between them. Between these two extremes of broad distinction, and no distinction, lies the ground occupied by the scientific student, who, whilst admitting that logical definition fails in assigning briefly and tersely the bounds of the three kingdoms, contends that such limits exist so positively, that the universal scientific mind accepts the recognized limit without controversy or contradiction.',\n",
       " 'In like manner, if one kingdom be made the subject of inquiry, the same difficulties will arise. A flowering plant, as represented by a rose or a lily, will be recognized as distinct from a fern, a seaweed, or a fungus. Yet there are some flowering plants which, at first sight, and without examination, simulate cryptogams, as, for example, many Balanophorae, which the unscientific would at once class with fungi. It is nevertheless true that even the incipient botanist will accurately separate the phanerogams from the cryptogams, and by means of a little more, but still elementary knowledge, distribute the latter amongst ferns, mosses, fungi, lichens, and algae, with comparatively few exceptions. It is true that between fungi and lichens there exists so close an affinity that difficulties arise, and doubts, and disputations, regarding certain small groups or a few species; but these are the exception, and not the rule. Botanists generally are agreed in recognizing the five principal groups of Cryptogamia, as natural and distinct. In proportion as we advance from comparison of members of the three kingdoms, through that of the primary groups in one kingdom, to a comparison of tribes, alliances, and orders, we shall require closer observation, and more and more education of the eye to see, and the mind to appreciate, relationships and distinctions.',\n",
       " 'We have already assumed that fungi are duly and universally admitted, as plants, into the vegetable kingdom. But of this fact some have even ventured to doubt. This doubt, however, has been confined to one order of fungi, except, perhaps, amongst the most illiterate, although now the animal nature of the Myxogastres has scarcely a serious advocate left. In this order the early condition of the plant is pulpy and gelatinous, and consists of a substance more allied to sarcode than cellulose. De Bary insinuated affinities with Amoeba, whilst Tulasne affirmed that the outer coat in some of these productions contained so much carbonate of lime that strong effervescence took place on the application of sulphuric acid. Dr. Henry Carter is well known as an old and experienced worker amongst amoeboid forms of animal life, and, when in Bombay, he devoted himself to the examination of the Myxogastres in their early stage, and the result of his examinations has been a firm conviction that there is no relationship whatever between the Myxogastres and the lower forms of animal life. De Bary has himself very much modified, if not wholly abandoned, the views once propounded by him on this subject. When mature, and the dusty spores, mixed with threads, sometimes spiral, are produced, the Myxogastres are so evidently close allies of the Lycoperdons, or Puffballs, as to leave no doubt of their affinities. It is scarcely necessary to remark that the presence of zoospores is no proof of animal nature, for not only do they occur in the white rust (Cystopus), and in such moulds as Peronospora, but are common in algae, the vegetable nature of which has never been disputed.',\n",
       " 'There is another equally important, but more complicated subject to which we must allude in this connection. This is the probability of minute fungi being developed without the intervention of germs, from certain solutions. The observations of M. Trecul, in a paper laid before the French Academy, have thus been summarized--1. Yeast cells may be formed in the must of beer without spores being previously sown. 2. Cells of the same form as those of yeast, but with different contents, arise spontaneously in simple solution of sugar, or to which a little tartrate of ammonia has been added, and these cells are capable of producing fermentation in certain liquids under favourable conditions. 3. The cells thus formed produce Penicillium like the cells of yeast. 4. On the other hand, the spores of Penicillium are capable of being transformed into yeast. The interpretation of this is, that the mould Penicillium may be produced from a sugar solution by \"spontaneous generation,\" and without spore or germ of any kind. The theory is, that a molecular mass which is developed in certain solutions or infusions, may, under the influence of different circumstances, produce either animalcules or fungi. \"In all these cases, no kind of animalcule or fungus is ever seen to originate from preexisting cells or larger bodies, but always from molecules.\" The molecules are said to form small masses, which soon melt together to constitute a globular body, from which a process juts out on one side. These are the so-called Torulae, which give off buds which are soon transformed into jointed tubes of various diameters, terminating in rows of sporules, Penicillium, or capsules containing numerous globular seeds, Aspergillus (sic).',\n",
       " 'Fungi are veritably and unmistakably plants, of a low organization, it is true, but still plants, developed from germs, somewhat analogous, but not wholly homologous, to the seeds of higher orders. The process of fertilization is still obscure, but facts are slowly and gradually accumulating, so that we may hope at some not very distant period to comprehend what as yet are little removed from hypotheses. Admitting that fungi are independent plants, much more complex in their relations and development than was formerly supposed, it will be expected that certain forms should be comparatively permanent, that is, that they should constitute good species. Here, also, efforts have been made to develop a theory that there are no legitimate species amongst fungi, accepting the terms as hitherto applied to flowering plants. In this, as in allied instances, too hasty generalizations have been based on a few isolated facts, without due comprehension of the true interpretation of such facts and phenomena. Polymorphism will hereafter receive special illustration, but meantime it may be well to state that, because some forms of fungi which have been described, and which have borne distinct names as autonomous species, are now proved to be only stages or conditions of other species, there is no reason for concluding that no forms are autonomous, or that fungi which appear and are developed in successive stages are not, in their entirety, good species. Instead, therefore, of insinuating that there are no good species, modern investigation tends rather to the establishment of good species, and the elimination of those that are spurious. It is chiefly amongst the microscopic species that polymorphism has been determined. In the larger and fleshy fungi nothing has been discovered which can shake our faith in the species described half a century, or more, ago. In the Agarics, for instance, the forms seem to be as permanent and as distinct as in the flowering plants. In fact, there is still no reason to dissent, except to a very limited extent, from what was written before polymorphism was accredited, that, \"with a few exceptions only, it may without doubt be asserted that more certain species do not exist in any part of the organized world than amongst fungi. The same species constantly recur in the same places, and if kinds not hitherto detected present themselves, they are either such as are well known in other districts, or species which have been overlooked, and which are found on better experience to be widely diffused. There is nothing like chance about their characters or growth.\"']"
      ]
     },
     "execution_count": 101,
     "metadata": {},
     "output_type": "execute_result"
    }
   ],
   "source": [
    "with open(CLEAN_CSV, 'r') as fin:\n",
    "    reader = csv.reader(fin)\n",
    "    data = list(reader)\n",
    "    data = [item for sublist in data for item in sublist]"
   ]
  },
  {
   "cell_type": "code",
   "execution_count": 105,
   "metadata": {},
   "outputs": [
    {
     "data": {
      "application/vnd.jupyter.widget-view+json": {
       "model_id": "a6d65f8ca6d1474296cd994275d950ff",
       "version_major": 2,
       "version_minor": 0
      },
      "text/plain": [
       "QUEUEING TASKS | :   0%|          | 0/474 [00:00<?, ?it/s]"
      ]
     },
     "metadata": {},
     "output_type": "display_data"
    },
    {
     "data": {
      "application/vnd.jupyter.widget-view+json": {
       "model_id": "864c62521aa04c388b9adbea8ec471f1",
       "version_major": 2,
       "version_minor": 0
      },
      "text/plain": [
       "PROCESSING TASKS | :   0%|          | 0/474 [00:00<?, ?it/s]"
      ]
     },
     "metadata": {},
     "output_type": "display_data"
    },
    {
     "data": {
      "application/vnd.jupyter.widget-view+json": {
       "model_id": "ff85abf70e2443ac8a692bad85775f46",
       "version_major": 2,
       "version_minor": 0
      },
      "text/plain": [
       "COLLECTING RESULTS | :   0%|          | 0/474 [00:00<?, ?it/s]"
      ]
     },
     "metadata": {},
     "output_type": "display_data"
    },
    {
     "name": "stdout",
     "output_type": "stream",
     "text": [
      "Wrote to dataset/ready/30181.csv\n"
     ]
    }
   ],
   "source": [
    "import random\n",
    "\n",
    "\n",
    "SPACE_DROP = 0.20\n",
    "SPACE_ADD = 0.15\n",
    "HYPHEN_ADD = 0.70\n",
    "HYPHEN_STRIDE = 40\n",
    "\n",
    "def aug_text(text):\n",
    "    # text = ''.join([char for char in text if char != ' ' or random.random() > SPACE_DROP])\n",
    "    n = len(text)-1\n",
    "    new_text = \"\"\n",
    "\n",
    "    for i,char in enumerate(text):\n",
    "        if char == ' ':\n",
    "            if random.random() >= SPACE_DROP:\n",
    "                new_text += char\n",
    "        else:\n",
    "            new_text += char\n",
    "            if i > 0 and text[i] != ' ' and i < n and text[i+1] != ' ':\n",
    "                if random.random() < SPACE_ADD:\n",
    "                    new_text += ' '\n",
    "    return new_text\n",
    "\n",
    "\n",
    "aug_ds = pqdm(data, aug_text, n_jobs=4)\n",
    "\n",
    "READY_CSV = READY / CLEAN_CSV.name\n",
    "with open(READY_CSV, 'w') as fout:\n",
    "    csv_writer = csv.writer(fout)\n",
    "    csv_writer.writerow(['text', 'label'])\n",
    "    csv_writer.writerows(zip(aug_ds, data))\n",
    "    print(f\"Wrote to {READY_CSV}\")"
   ]
  }
 ],
 "metadata": {
  "kernelspec": {
   "display_name": "pdf-text-cleanup-PU8QNPix-py3.11",
   "language": "python",
   "name": "python3"
  },
  "language_info": {
   "codemirror_mode": {
    "name": "ipython",
    "version": 3
   },
   "file_extension": ".py",
   "mimetype": "text/x-python",
   "name": "python",
   "nbconvert_exporter": "python",
   "pygments_lexer": "ipython3",
   "version": "3.11.4"
  },
  "orig_nbformat": 4
 },
 "nbformat": 4,
 "nbformat_minor": 2
}
